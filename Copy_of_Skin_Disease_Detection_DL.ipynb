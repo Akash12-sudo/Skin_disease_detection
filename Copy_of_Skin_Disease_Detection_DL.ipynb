{
  "cells": [
    {
      "cell_type": "markdown",
      "metadata": {
        "id": "view-in-github",
        "colab_type": "text"
      },
      "source": [
        "<a href=\"https://colab.research.google.com/github/Akash12-sudo/Skin_disease_detection/blob/main/Copy_of_Skin_Disease_Detection_DL.ipynb\" target=\"_parent\"><img src=\"https://colab.research.google.com/assets/colab-badge.svg\" alt=\"Open In Colab\"/></a>"
      ]
    },
    {
      "cell_type": "code",
      "execution_count": 9,
      "metadata": {
        "id": "2xQ2axI7zICN"
      },
      "outputs": [],
      "source": [
        "# Importing libraries\n",
        "import numpy as np\n",
        "import pandas as pd\n",
        "import matplotlib.pyplot as plt\n",
        "import tensorflow as tf\n",
        "from tensorflow import keras\n",
        "from keras.models import Sequential\n",
        "from keras.layers import Flatten, Dense, Conv2D, MaxPooling2D, BatchNormalization, Activation, Dropout \n",
        "from keras.preprocessing.image import ImageDataGenerator\n",
        "from keras.optimizers import Adam"
      ]
    },
    {
      "cell_type": "code",
      "source": [
        "gpus = tf.config.experimental.list_physical_devices('GPU') \n",
        "for gpu in gpus:\n",
        "  tf.config.experimental.set_memory_growth(gpu, True)"
      ],
      "metadata": {
        "id": "gJ4JoMZi81AS"
      },
      "execution_count": null,
      "outputs": []
    },
    {
      "cell_type": "code",
      "execution_count": 5,
      "metadata": {
        "colab": {
          "base_uri": "https://localhost:8080/"
        },
        "id": "eNQtcJ_5uYqt",
        "outputId": "b68ea524-d335-4e82-ffbe-83893a1168a1"
      },
      "outputs": [
        {
          "output_type": "stream",
          "name": "stdout",
          "text": [
            "Drive already mounted at /content/drive; to attempt to forcibly remount, call drive.mount(\"/content/drive\", force_remount=True).\n"
          ]
        }
      ],
      "source": [
        "## Connecting to the google drive \n",
        "from google.colab import drive\n",
        "drive.mount('/content/drive')"
      ]
    },
    {
      "cell_type": "code",
      "execution_count": 6,
      "metadata": {
        "id": "FA55CmMYyohC"
      },
      "outputs": [],
      "source": [
        "# Unzipping the zipped folder containing dataset\n",
        "import zipfile\n",
        "dataset_ref = zipfile.ZipFile('/content/drive/MyDrive/project_data.zip')\n",
        "dataset_ref.extractall('/content')\n",
        "dataset_ref.close()"
      ]
    },
    {
      "cell_type": "code",
      "execution_count": 11,
      "metadata": {
        "colab": {
          "base_uri": "https://localhost:8080/"
        },
        "id": "9D0A1ybZ0AXZ",
        "outputId": "f5e775b1-d08f-4b6e-916b-b64886bf24bf"
      },
      "outputs": [
        {
          "output_type": "stream",
          "name": "stdout",
          "text": [
            "Found 3449 images belonging to 4 classes.\n",
            "Found 861 images belonging to 4 classes.\n",
            "Found 1181 images belonging to 4 classes.\n"
          ]
        }
      ],
      "source": [
        "# Data Processing Step\n",
        "train_dir = '/content/project_data/train'\n",
        "test_dir = '/content/project_data/test'\n",
        "num_classes = 4\n",
        "\n",
        "## Data augmentation technique to prevent overfitting\n",
        "# training dataset generator \n",
        "train_datagen = ImageDataGenerator(        \n",
        "    rescale=1./255,\n",
        "    rotation_range=20,\n",
        "    width_shift_range=0.2,\n",
        "    height_shift_range=0.2,\n",
        "    shear_range=0.2,\n",
        "    zoom_range=0.2,\n",
        "    horizontal_flip=True,\n",
        "    vertical_flip=True,\n",
        "    fill_mode='nearest',\n",
        "    validation_split = 0.2  # set aside 10% of training data for validation\n",
        ")\n",
        "\n",
        "# testing dataset generator\n",
        "test_datagen = ImageDataGenerator(\n",
        "    rescale = 1./255\n",
        ")\n",
        "\n",
        "### Loading the dataset\n",
        "# training dataset\n",
        "train_ds = train_datagen.flow_from_directory(\n",
        "    train_dir, \n",
        "    target_size = (256, 256),\n",
        "    class_mode = \"categorical\",\n",
        "    batch_size = 32,\n",
        "    subset = \"training\"\n",
        ")\n",
        "\n",
        "# validation dataset\n",
        "val_ds = train_datagen.flow_from_directory(\n",
        "    train_dir, \n",
        "    target_size = (256, 256),\n",
        "    class_mode = \"categorical\",\n",
        "    subset = \"validation\"\n",
        ")\n",
        "\n",
        "# test dataset\n",
        "test_ds = test_datagen.flow_from_directory(\n",
        "    test_dir,\n",
        "    target_size = (256, 256),\n",
        "    class_mode = \"categorical\"\n",
        ")\n",
        "\n"
      ]
    },
    {
      "cell_type": "code",
      "execution_count": 10,
      "metadata": {
        "colab": {
          "base_uri": "https://localhost:8080/"
        },
        "id": "1VRhZ0te1xED",
        "outputId": "e6e5359c-774f-42c2-b320-a566ff9c20ca"
      },
      "outputs": [
        {
          "output_type": "stream",
          "name": "stdout",
          "text": [
            "Downloading data from https://storage.googleapis.com/tensorflow/keras-applications/inception_v3/inception_v3_weights_tf_dim_ordering_tf_kernels_notop.h5\n",
            "87910968/87910968 [==============================] - 1s 0us/step\n"
          ]
        }
      ],
      "source": [
        "# Importing the Inception-V3 model\n",
        "from keras.applications.inception_v3 import InceptionV3\n",
        "base_model = InceptionV3(weights = 'imagenet', include_top = False, input_shape = (256, 256, 3))"
      ]
    },
    {
      "cell_type": "code",
      "execution_count": 12,
      "metadata": {
        "id": "C4yIVWFc2U3R"
      },
      "outputs": [],
      "source": [
        "# Connecting with inception-v3 model\n",
        "model = Sequential()\n",
        "model.add(base_model)\n",
        "model.add(Flatten())\n",
        "\n",
        "model.add(Dense(1024, activation = 'relu'))\n",
        "model.add(Dropout(0.5))\n",
        "\n",
        "model.add(Dense(512, activation = 'relu'))\n",
        "model.add(Dropout(0.5))\n",
        "\n",
        "model.add(Dense(num_classes, activation = 'sigmoid'))\n",
        "\n",
        "for layer in base_model.layers:\n",
        "  layer.trainable = False"
      ]
    },
    {
      "cell_type": "code",
      "execution_count": 13,
      "metadata": {
        "colab": {
          "base_uri": "https://localhost:8080/"
        },
        "id": "tIK59ybi3QJZ",
        "outputId": "fe1694d0-72cc-4298-88e1-4d86ef87ba53"
      },
      "outputs": [
        {
          "output_type": "stream",
          "name": "stdout",
          "text": [
            "Model: \"sequential\"\n",
            "_________________________________________________________________\n",
            " Layer (type)                Output Shape              Param #   \n",
            "=================================================================\n",
            " inception_v3 (Functional)   (None, 6, 6, 2048)        21802784  \n",
            "                                                                 \n",
            " flatten (Flatten)           (None, 73728)             0         \n",
            "                                                                 \n",
            " dense (Dense)               (None, 1024)              75498496  \n",
            "                                                                 \n",
            " dropout (Dropout)           (None, 1024)              0         \n",
            "                                                                 \n",
            " dense_1 (Dense)             (None, 512)               524800    \n",
            "                                                                 \n",
            " dropout_1 (Dropout)         (None, 512)               0         \n",
            "                                                                 \n",
            " dense_2 (Dense)             (None, 4)                 2052      \n",
            "                                                                 \n",
            "=================================================================\n",
            "Total params: 97,828,132\n",
            "Trainable params: 76,025,348\n",
            "Non-trainable params: 21,802,784\n",
            "_________________________________________________________________\n"
          ]
        }
      ],
      "source": [
        "model.summary()"
      ]
    },
    {
      "cell_type": "code",
      "execution_count": 15,
      "metadata": {
        "id": "CoBcJFAY3kPF"
      },
      "outputs": [],
      "source": [
        "model.compile(optimizer = Adam(learning_rate = 1e-4), loss = 'categorical_crossentropy', metrics = ['accuracy'])"
      ]
    },
    {
      "cell_type": "code",
      "source": [
        "from tensorflow.keras.callbacks import ModelCheckpoint"
      ],
      "metadata": {
        "id": "cAIBIyO3cenW"
      },
      "execution_count": 16,
      "outputs": []
    },
    {
      "cell_type": "code",
      "source": [
        "file_path = '/content/best_models/model-{epoch:02d}-{val_accuracy:.2f}.hdf5'"
      ],
      "metadata": {
        "id": "EUUGDoOLcsFm"
      },
      "execution_count": 17,
      "outputs": []
    },
    {
      "cell_type": "code",
      "source": [
        "checkpoint = ModelCheckpoint(file_path, monitor = \"val_accuracy\", verbose = 1, save_best_only=True, mode = \"max\")"
      ],
      "metadata": {
        "id": "iF-Kjt-PdFe4"
      },
      "execution_count": 18,
      "outputs": []
    },
    {
      "cell_type": "code",
      "source": [
        "hist = model.fit(train_ds, validation_data = val_ds, epochs = 10, callbacks = [checkpoint])"
      ],
      "metadata": {
        "colab": {
          "base_uri": "https://localhost:8080/"
        },
        "id": "QdF6LZg_3FqK",
        "outputId": "198b6542-841e-4068-c947-7dc339e03cc6"
      },
      "execution_count": 19,
      "outputs": [
        {
          "output_type": "stream",
          "name": "stdout",
          "text": [
            "Epoch 1/10\n",
            "108/108 [==============================] - ETA: 0s - loss: 2.5158 - accuracy: 0.3842\n",
            "Epoch 1: val_accuracy improved from -inf to 0.44599, saving model to /content/best_models/model-01-0.45.hdf5\n",
            "108/108 [==============================] - 115s 942ms/step - loss: 2.5158 - accuracy: 0.3842 - val_loss: 1.2714 - val_accuracy: 0.4460\n",
            "Epoch 2/10\n",
            "108/108 [==============================] - ETA: 0s - loss: 1.2160 - accuracy: 0.4633\n",
            "Epoch 2: val_accuracy improved from 0.44599 to 0.49477, saving model to /content/best_models/model-02-0.49.hdf5\n",
            "108/108 [==============================] - 96s 893ms/step - loss: 1.2160 - accuracy: 0.4633 - val_loss: 1.1925 - val_accuracy: 0.4948\n",
            "Epoch 3/10\n",
            "108/108 [==============================] - ETA: 0s - loss: 1.1647 - accuracy: 0.5077\n",
            "Epoch 3: val_accuracy improved from 0.49477 to 0.49710, saving model to /content/best_models/model-03-0.50.hdf5\n",
            "108/108 [==============================] - 96s 887ms/step - loss: 1.1647 - accuracy: 0.5077 - val_loss: 1.1538 - val_accuracy: 0.4971\n",
            "Epoch 4/10\n",
            "108/108 [==============================] - ETA: 0s - loss: 1.1501 - accuracy: 0.5184\n",
            "Epoch 4: val_accuracy improved from 0.49710 to 0.53775, saving model to /content/best_models/model-04-0.54.hdf5\n",
            "108/108 [==============================] - 98s 905ms/step - loss: 1.1501 - accuracy: 0.5184 - val_loss: 1.1352 - val_accuracy: 0.5377\n",
            "Epoch 5/10\n",
            "108/108 [==============================] - ETA: 0s - loss: 1.1268 - accuracy: 0.5320\n",
            "Epoch 5: val_accuracy did not improve from 0.53775\n",
            "108/108 [==============================] - 90s 838ms/step - loss: 1.1268 - accuracy: 0.5320 - val_loss: 1.1799 - val_accuracy: 0.5168\n",
            "Epoch 6/10\n",
            "108/108 [==============================] - ETA: 0s - loss: 1.1022 - accuracy: 0.5491\n",
            "Epoch 6: val_accuracy did not improve from 0.53775\n",
            "108/108 [==============================] - 90s 833ms/step - loss: 1.1022 - accuracy: 0.5491 - val_loss: 1.1410 - val_accuracy: 0.5226\n",
            "Epoch 7/10\n",
            "108/108 [==============================] - ETA: 0s - loss: 1.0999 - accuracy: 0.5460\n",
            "Epoch 7: val_accuracy did not improve from 0.53775\n",
            "108/108 [==============================] - 91s 840ms/step - loss: 1.0999 - accuracy: 0.5460 - val_loss: 1.1186 - val_accuracy: 0.5343\n",
            "Epoch 8/10\n",
            "108/108 [==============================] - ETA: 0s - loss: 1.0805 - accuracy: 0.5706\n",
            "Epoch 8: val_accuracy did not improve from 0.53775\n",
            "108/108 [==============================] - 92s 851ms/step - loss: 1.0805 - accuracy: 0.5706 - val_loss: 1.1328 - val_accuracy: 0.5377\n",
            "Epoch 9/10\n",
            "108/108 [==============================] - ETA: 0s - loss: 1.0721 - accuracy: 0.5578\n",
            "Epoch 9: val_accuracy improved from 0.53775 to 0.55285, saving model to /content/best_models/model-09-0.55.hdf5\n",
            "108/108 [==============================] - 95s 881ms/step - loss: 1.0721 - accuracy: 0.5578 - val_loss: 1.1155 - val_accuracy: 0.5528\n",
            "Epoch 10/10\n",
            "108/108 [==============================] - ETA: 0s - loss: 1.0646 - accuracy: 0.5715\n",
            "Epoch 10: val_accuracy did not improve from 0.55285\n",
            "108/108 [==============================] - 90s 834ms/step - loss: 1.0646 - accuracy: 0.5715 - val_loss: 1.1452 - val_accuracy: 0.5180\n"
          ]
        }
      ]
    },
    {
      "cell_type": "code",
      "source": [
        "from tensorflow.keras.metrics import Recall, Precision, Accuracy, CategoricalAccuracy"
      ],
      "metadata": {
        "id": "ytck4o4cYQiv"
      },
      "execution_count": 20,
      "outputs": []
    },
    {
      "cell_type": "code",
      "source": [
        "recall = Recall()\n",
        "precision = Precision()\n",
        "accuracy = Accuracy()"
      ],
      "metadata": {
        "id": "mzEylKCCYePI"
      },
      "execution_count": 21,
      "outputs": []
    },
    {
      "cell_type": "code",
      "source": [
        "y_pred = model.predict(test_ds)"
      ],
      "metadata": {
        "colab": {
          "base_uri": "https://localhost:8080/"
        },
        "id": "hdNzbTIPIIlb",
        "outputId": "637150b2-a831-44b3-d4af-b5196b55ee59"
      },
      "execution_count": 22,
      "outputs": [
        {
          "output_type": "stream",
          "name": "stdout",
          "text": [
            "37/37 [==============================] - 12s 293ms/step\n"
          ]
        }
      ]
    },
    {
      "cell_type": "code",
      "source": [
        "y_pred = np.argmax(y_pred, axis=1)"
      ],
      "metadata": {
        "id": "cE3-rLzGJrkg"
      },
      "execution_count": 23,
      "outputs": []
    },
    {
      "cell_type": "code",
      "source": [
        "y_pred"
      ],
      "metadata": {
        "colab": {
          "base_uri": "https://localhost:8080/"
        },
        "id": "l1eBwfLUJuLb",
        "outputId": "2ff1e019-45be-4e4d-c74c-4a292874925d"
      },
      "execution_count": 24,
      "outputs": [
        {
          "output_type": "execute_result",
          "data": {
            "text/plain": [
              "array([3, 1, 1, ..., 3, 2, 3])"
            ]
          },
          "metadata": {},
          "execution_count": 24
        }
      ]
    },
    {
      "cell_type": "code",
      "source": [
        "y_true = test_ds.classes"
      ],
      "metadata": {
        "id": "sm4zKCm5IUb-"
      },
      "execution_count": 25,
      "outputs": []
    },
    {
      "cell_type": "code",
      "source": [
        "y_true"
      ],
      "metadata": {
        "colab": {
          "base_uri": "https://localhost:8080/"
        },
        "id": "mtBhce7IJRw1",
        "outputId": "e0270984-4cb7-41e8-dbda-42feefb8c72c"
      },
      "execution_count": 26,
      "outputs": [
        {
          "output_type": "execute_result",
          "data": {
            "text/plain": [
              "array([0, 0, 0, ..., 3, 3, 3], dtype=int32)"
            ]
          },
          "metadata": {},
          "execution_count": 26
        }
      ]
    },
    {
      "cell_type": "code",
      "source": [
        "recall.update_state(y_true, y_pred)\n",
        "precision.update_state(y_true, y_pred)\n",
        "accuracy.update_state(y_true, y_pred)"
      ],
      "metadata": {
        "colab": {
          "base_uri": "https://localhost:8080/"
        },
        "id": "KS4r78MJJWBJ",
        "outputId": "d57124cb-1152-4212-98a5-8880f058565c"
      },
      "execution_count": 27,
      "outputs": [
        {
          "output_type": "execute_result",
          "data": {
            "text/plain": [
              "<tf.Variable 'UnreadVariable' shape=() dtype=float32, numpy=1181.0>"
            ]
          },
          "metadata": {},
          "execution_count": 27
        }
      ]
    },
    {
      "cell_type": "code",
      "source": [
        "print(f'Recall: {recall.result().numpy()}\\nPrecision: {precision.result().numpy()}\\nAccuracy: {accuracy.result().numpy()}')"
      ],
      "metadata": {
        "colab": {
          "base_uri": "https://localhost:8080/"
        },
        "id": "19M9wlmFJxhI",
        "outputId": "86786c94-8339-4631-91a8-39484fc77af7"
      },
      "execution_count": 28,
      "outputs": [
        {
          "output_type": "stream",
          "name": "stdout",
          "text": [
            "Recall: 0.8193325400352478\n",
            "Precision: 0.7424400448799133\n",
            "Accuracy: 0.2574089765548706\n"
          ]
        }
      ]
    },
    {
      "cell_type": "code",
      "source": [
        "fig = plt.figure()\n",
        "plt.plot(hist.history['accuracy'], color = 'teal', label = 'accuracy')\n",
        "plt.plot(hist.history['val_accuracy'], color = 'orange', label = 'val_accuracy')\n",
        "fig.suptitle('Accuracy Comparison')\n",
        "plt.legend(loc = \"upper left\")\n",
        "plt.show()"
      ],
      "metadata": {
        "colab": {
          "base_uri": "https://localhost:8080/",
          "height": 478
        },
        "id": "pvQfBHLub4JN",
        "outputId": "75c98d02-7965-475c-e64d-354ceec7c00a"
      },
      "execution_count": 29,
      "outputs": [
        {
          "output_type": "display_data",
          "data": {
            "text/plain": [
              "<Figure size 640x480 with 1 Axes>"
            ],
            "image/png": "[encoded data removed]"
          },
          "metadata": {}
        }
      ]
    },
    {
      "cell_type": "code",
      "source": [
        "fig = plt.figure()\n",
        "plt.plot(hist.history['loss'], color = 'teal', label = 'loss')\n",
        "plt.plot(hist.history['val_loss'], color = 'orange', label = 'val_loss')\n",
        "fig.suptitle('Losses')\n",
        "plt.legend(loc = \"upper left\")\n",
        "plt.show()"
      ],
      "metadata": {
        "id": "GpxE4M6Dcew3",
        "colab": {
          "base_uri": "https://localhost:8080/",
          "height": 478
        },
        "outputId": "a12e8aa6-8f38-45b6-8f66-53591651baa0"
      },
      "execution_count": 30,
      "outputs": [
        {
          "output_type": "display_data",
          "data": {
            "text/plain": [
              "<Figure size 640x480 with 1 Axes>"
            ],
            "image/png": "[encoded data removed]"
          },
          "metadata": {}
        }
      ]
    }
  ],
  "metadata": {
    "accelerator": "GPU",
    "colab": {
      "provenance": [],
      "authorship_tag": "ABX9TyNxa5pGKXi0L29m6YJUQC1k",
      "include_colab_link": true
    },
    "gpuClass": "standard",
    "kernelspec": {
      "display_name": "Python 3",
      "name": "python3"
    },
    "language_info": {
      "name": "python"
    }
  },
  "nbformat": 4,
  "nbformat_minor": 0
}